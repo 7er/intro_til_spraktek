{
 "cells": [
  {
   "attachments": {},
   "cell_type": "markdown",
   "metadata": {},
   "source": [
    "# Oppgave 1: Dokumentvektorer\n",
    "I denne oppgaven skal vi se på hvordan vi kan representere dokumenter som vektorer som kan brukes for visualisering og klassifisering"
   ]
  },
  {
   "cell_type": "code",
   "execution_count": null,
   "metadata": {},
   "outputs": [],
   "source": [
    "from collections import Counter, defaultdict\n",
    "import nltk\n",
    "from nltk.corpus import gutenberg\n",
    "import numpy as np\n",
    "import matplotlib.pyplot as plt\n",
    "from sklearn.decomposition import PCA"
   ]
  },
  {
   "cell_type": "code",
   "execution_count": null,
   "metadata": {},
   "outputs": [],
   "source": [
    "nltk.download('gutenberg')\n",
    "nltk.download('stopwords')\n",
    "nltk.download('punkt')"
   ]
  },
  {
   "attachments": {},
   "cell_type": "markdown",
   "metadata": {},
   "source": [
    "## Korpus, tokens og vokabular  \n",
    "Et *korpus* er en samling av tekster. F.eks Gutenberg-korpuset.  \n",
    "*Tokens* er ord (eller sub-ord), og tokenisering er en del av preprosesseringen for de aller fleste språkteknologioppgaver.  \n",
    "*Vokabularet* til et datasett eller en modell er antall **unike** tokens.   "
   ]
  },
  {
   "cell_type": "code",
   "execution_count": null,
   "metadata": {},
   "outputs": [],
   "source": [
    "# Eksempelkode\n",
    "ids = gutenberg.fileids()\n",
    "blake_poems = ids[4]\n",
    "gutenberg.words(blake_poems)"
   ]
  },
  {
   "attachments": {},
   "cell_type": "markdown",
   "metadata": {},
   "source": [
    "\n",
    "### 1. Hent ut titlene på bøkene som er skrevet av Jane Austen og William Shakespeare.   \n",
    "    Bruk gutenberg.fileids() for å hente ut titlene. Disse titlene blir vår samling som vi skal jobbe videre med.  \n",
    "    Hvor mange bøker er det? "
   ]
  },
  {
   "cell_type": "code",
   "execution_count": null,
   "metadata": {},
   "outputs": [],
   "source": [
    "# Din kode her"
   ]
  },
  {
   "attachments": {},
   "cell_type": "markdown",
   "metadata": {},
   "source": [
    "### 2. Bruk gutenberg.words for å hente ut selve tekstene. Observer at tekstene allerede er *tokenisert*.  \n",
    "\n",
    "    Hvor mange tokens er det i hver tekst?  \n",
    "    Hvor mange unike tokens er det i hver tekst?\n",
    "    Hvor stort er vokabularet i samlingen vår?  \n",
    "    Sammenlikn størrelsen på vokabularet med totalt antall tokens. \n",
    "    Hvilke 5 tokens forekommer oftest? \n",
    "https://en.wikipedia.org/wiki/Zipf's_law"
   ]
  },
  {
   "cell_type": "code",
   "execution_count": null,
   "metadata": {},
   "outputs": [],
   "source": [
    "# Din kode her"
   ]
  },
  {
   "attachments": {},
   "cell_type": "markdown",
   "metadata": {},
   "source": [
    "## Bag-of-Words-modellen\n",
    "Bag-of-words (BoW) er en måte å representere dokumenter (=tekster) på.  \n",
    "Vi ser bort ifra strukturen og ordrekkefølge i setninger, og lar et dokument representeres som mengden av ord som finnes i dokumentet. "
   ]
  },
  {
   "cell_type": "markdown",
   "metadata": {},
   "source": [
    "\n",
    "Eksempel: \n",
    "```\n",
    "\"Fisk er en type dyr\"                   {\"Fisk\", \"en\", \"er\", \"dyr\", \"type\"}\n",
    "\"Fisk er godt\"                          {\"Fisk\", \"er\", \"godt\"}\n",
    "\"Hester er dyr\"                         {\"Hester\", \"er\",  \"dyr\"}\n",
    "```\n",
    "Her har vi fire tekster, og mengden av tokens disse består av. \n",
    "\n",
    "For å kunne lage dokumentvektorer, lar vi hver dimensjon/feature i dokumentvektoren svare til ett ord i vokabularet.  \n",
    "\n",
    "Eksempel:\n",
    "```\n",
    "                                'godt', 'type', 'dyr', 'Hester', 'Fisk',   \n",
    "\"Fisk er en type dyr\"             0        1      1       0        1     \n",
    "\"Fisk er godt\"                    1        0      0       0        1     \n",
    "\"Hester er dyr\"                   0        0      1       1        0     \n",
    "```\n",
    "Kalles en dokument-ord matrise (eller document-term matrix )\n",
    "\n",
    "Legg merke til at \"en\" og \"er\" er fjernet fra matrisen.\n",
    "Å fjerne funksjonsord som ikke har så mye mening i seg selv, er et grep for å:  \n",
    "1. minske vokabularet, og dermed vektorrommet, og dermed regnekraften som trengs  \n",
    "2. fjerne støy, da funksjonsord typisk forekommer i alle dokumenter  \n",
    "     \n",
    "Vi kaller ord som skal fjernes for *stoppeord* eller *stop words*"
   ]
  },
  {
   "attachments": {},
   "cell_type": "markdown",
   "metadata": {},
   "source": [
    "### 1. Indekser vokabularet\n",
    "    Lag en indekser over hvert token i vokabularet.\n",
    "    Hvert unike token skal ha en unik indeks, og indeksene skal gå fra 0 til størrelsen av vokabularet.\n",
    "    Hvilken indeks har ordet \"Julius\"? (bør kunne hentes i konstant tid med indexer[\"Julius\"], evt indexer(\"Julius\"))"
   ]
  },
  {
   "cell_type": "code",
   "execution_count": null,
   "metadata": {},
   "outputs": [],
   "source": [
    "# Din kode her"
   ]
  },
  {
   "attachments": {},
   "cell_type": "markdown",
   "metadata": {},
   "source": [
    "### 2. Lag og visualiser dokumentvektorer\n",
    "    Bruk indekseren og bøkene for å lage dokumentvektorer for hver av bøkene i samlingen vår.  \n",
    "    Du kan lage one-hot vektorer (bare binærtall), og/eller vektorer der tallet i hver dimensjon er antall ganger det ordet forekommer i teksten. (lurt å bruke collections.Counter i så fall)\n",
    "    Visualiser dokumentvektorene.  \n",
    "    Hva ser du?\n"
   ]
  },
  {
   "cell_type": "code",
   "execution_count": 25,
   "metadata": {},
   "outputs": [
    {
     "data": {
      "text/plain": [
       "<matplotlib.legend.Legend at 0x7f2f915e7280>"
      ]
     },
     "execution_count": 25,
     "metadata": {},
     "output_type": "execute_result"
    },
    {
     "data": {
      "image/png": "[encoded data removed]",
      "text/plain": [
       "<Figure size 640x480 with 1 Axes>"
      ]
     },
     "metadata": {},
     "output_type": "display_data"
    }
   ],
   "source": [
    "# Eksempel\n",
    "\n",
    "fisk_docs = [\"fisk er en type dyr\", \"fisker fisker ikke fisk\", \"fisk er godt\", \"jeg fisker med stang\"]\n",
    "hest_docs = [\"hester er dyr\", \"jeg har en dyr hest\", \"hester har fine sko\", \"ponni er en type hest\"]\n",
    "docs = fisk_docs + hest_docs\n",
    "\n",
    "voc = set(\" \".join(docs).split())\n",
    "index = {w: i for i, w in enumerate(voc)}\n",
    "\n",
    "# One-hot enkodede BoW-vektorer\n",
    "vecs = np.zeros((len(docs), len(voc)))\n",
    "for i, doc in enumerate(docs):\n",
    "    s = doc.split()\n",
    "    for w in s:\n",
    "        vecs[i][index[w]] = 1\n",
    "\n",
    "# Visualisering\n",
    "pca = PCA(n_components=2)\n",
    "vecs_2d = pca.fit_transform(vecs)\n",
    "x, y = zip(*vecs_2d)\n",
    "\n",
    "i = len(fisk_docs)\n",
    "\n",
    "plt.scatter(x[:i], y[:i], c=\"blue\", label=\"fisk\")\n",
    "plt.scatter(x[i:], y[i:], c=\"red\", label=\"hest\")\n",
    "plt.title(\"BoW visualisering (flatet med PCA)\")\n",
    "plt.legend()"
   ]
  },
  {
   "cell_type": "code",
   "execution_count": null,
   "metadata": {},
   "outputs": [],
   "source": [
    "# Din kode her"
   ]
  },
  {
   "attachments": {},
   "cell_type": "markdown",
   "metadata": {},
   "source": [
    "### 3. Bonusoppgave\n",
    "    Eksperimenter med forskjellige måter å representere dokumentvektorene.  \n",
    "    Du kan f.eks:\n",
    "- fjerne stoppeord\n",
    "- fjerne non-word-tokens (som tegnsetting)\n",
    "- la vokabularet ignorere små/store bokstaver\n",
    "- vekte ordene med tf-idf (https://en.wikipedia.org/wiki/Tf%E2%80%93idf)"
   ]
  },
  {
   "cell_type": "code",
   "execution_count": null,
   "metadata": {},
   "outputs": [],
   "source": [
    "from nltk.corpus import stopwords\n",
    "from string import punctuation\n",
    "\n",
    "sw = stopwords.words('english')\n",
    "\"[\" in punctuation"
   ]
  },
  {
   "attachments": {},
   "cell_type": "markdown",
   "metadata": {},
   "source": [
    "# Oppgave 2: Ordvektorer og word embeddings"
   ]
  },
  {
   "attachments": {},
   "cell_type": "markdown",
   "metadata": {},
   "source": [
    "## The distributional hypothesis og distributional semantics\n",
    "\n",
    "\"Meaning is use\" (Wittgenstein, 1953)  \n",
    "\"You shall know a word by the company it keeps\"  (Firth, 1957)  \n",
    "\"The meaning of entities, and the meaning of grammatical relations\n",
    "among them, is related to the restriction of combinations of these\n",
    "entities relative to other entities\" (Harris, 1968)  \n",
    "\n",
    "https://en.wikipedia.org/wiki/Distributional_semantics  \n",
    "https://www.uio.no/studier/emner/matnat/ifi/IN2110/v23/foiler/05_ordvektorer_2023.pdf\n",
    "\n",
    "Altså: Betydningen til et ord kan finnes ved å se på ordene det omgås med, *konteksten* til ordet.\n",
    "\n",
    "Eksempel:  \n",
    " \n",
    "    \"Damen drikker en kopp kaffe\"  \n",
    "    \"Jens drikker en kopp te\"  \n",
    "    \"Jens drikker et glass vann\"  \n",
    "    \"Hunden drikker vann\"  \n",
    "\n",
    "Grammatisk \"riktig\", men semantisk feil setning:  \n",
    "\"Jeg drikker en stol\"  \n",
    "\"Stol\" vil (så og si) aldri være objekt til verbet \"drikker\". \n",
    "\n",
    "##  Term-term matriser og ordvektorer\n",
    "Vi kan lage ordvektorer ved hjelp av en term-term matrise. (også kalt *co-occurence matrix* eller *term-context matrix*)  \n",
    "Da teller vi opp hvor mange ganger de forskjellige ordene i vokabularet forekommer sammen, altså er i samme kontekt.    \n",
    "Størrelsen på *kontekstvinduet* er hvor mange ord bakover/forover vi henter ut konteksten.\n",
    "\n",
    "Hvis størrelsen på kontekstvinduet er 2, vil vi få denne term-term-matrisen fra eksemplene over:\n",
    "\n",
    "              'Damen', 'Hunden', 'Jens', 'drikker', 'kopp', 'glass', 'kaffe', 'te', 'vann'  \n",
    "    'Damen'       0        0       0        1          1      0         0       0       0  \n",
    "    'Hunden'      0        0       0        1          0      0         0       1       1   \n",
    "    'Jens'        0        0       0        2          1      1         0       0       0  \n",
    "    'drikker'     1        1       2        0          2      1         1       1       2  \n",
    "    'kopp'        1        0       1        2          0      0         1       1       0       \n",
    "    'glass'       0        0       1        1          0      0         0       0       1      \n",
    "    'kaffe'       0        0       0        1          1      0         0       0       0  \n",
    "    'te'          0        0       0        1          1      0         0       0       0  \n",
    "    'vann'        0        1       1        2          0      1         0       0       0  \n",
    "\n",
    "Hver rad/kolonne her er vektoren for det gjeldende ordet  "
   ]
  },
  {
   "attachments": {},
   "cell_type": "markdown",
   "metadata": {},
   "source": [
    "### 1. Lag en term-term matrise for ordene i vår samling.  \n",
    "    Du kan velge å fjerne stoppeord og/eller tegnsetting, husk da at det må fjernes fra setningene *før* du teller kontekstordene. (Husk også å ikke inkludere stoppeordene i vokabularet) Du kan også velge å la vokabularet være case insensitive   \n",
    "    La størrelsen på kontekstvinduet være 3 (på hver side av ordet), men ikke gå utenfor setningsgrenser. (Bruk gutenberg.sents istedenfor words)"
   ]
  },
  {
   "cell_type": "code",
   "execution_count": null,
   "metadata": {},
   "outputs": [],
   "source": [
    "# Eksempelkode\n",
    "sent = gutenberg.sents(ids[0])[0]\n",
    "\n",
    "sent"
   ]
  },
  {
   "attachments": {},
   "cell_type": "markdown",
   "metadata": {},
   "source": [
    "Tokensene i konteksten til '[' er 'Emma', 'by' og 'Jane'.  \n",
    "Tokensene i konteksten til 'Jane' er '[', 'Emma', 'by', 'Austen', '1816' og ']'. "
   ]
  },
  {
   "cell_type": "code",
   "execution_count": null,
   "metadata": {},
   "outputs": [],
   "source": [
    "# Din kode her"
   ]
  },
  {
   "attachments": {},
   "cell_type": "markdown",
   "metadata": {},
   "source": [
    "### 2. Finn likeste ord\n",
    "Nå har vi vektorer som representerer betydningen til de forskjellige ordene. \n",
    "\n",
    "Hvis vi lar hver feature i ordvektorene svare til en dimensjon i et høydimensjonalt rom, kan vi måle avstanden mellom to vektorer med euklidsk avstand (https://en.wikipedia.org/wiki/Euclidean_distance#Higher_dimensions). Vi kan også måle likheten mellom to vektorer med cosinus-likhet (https://en.wikipedia.org/wiki/Cosine_similarity). \n",
    "\n",
    "For å regne ut disse er det lurt å *normalisere* vektorene, det vil si å gjøre dem til enhetsvektorer ved å dele verdien i hver dimensjon på lengden av vektoren (https://mathworld.wolfram.com/NormalizedVector.html)  \n",
    "Gitt at vektorene er normalisert, kan man regne ut cosinus-likheten mellom to vektorer med prikkprodukt. \n",
    "\n",
    "    Lag en funksjon som regner ut avstanden eller likheten mellom to vektorer.\n",
    "\n",
    "    Bruk ordvektorene og vektorrommet til å finne de 10 likeste* ordene til følgende ord:\n",
    "- Emma\n",
    "- George\n",
    "- lovely\n",
    "- King"
   ]
  },
  {
   "attachments": {},
   "cell_type": "markdown",
   "metadata": {},
   "source": [
    "    Hva ser du?\n",
    "\n",
    "*Husk at hvis du bruker euklidsk avstand, så betyr lavere tall likere ord (avstanden mellom en vektor og seg selv er 0), og hvis du bruker cosinus-likhet så betyr høyere tall likere ord (cosinus-likheten mellom en vektor og seg selv er 1."
   ]
  },
  {
   "cell_type": "code",
   "execution_count": null,
   "metadata": {},
   "outputs": [],
   "source": [
    "# Din kode her"
   ]
  },
  {
   "attachments": {},
   "cell_type": "markdown",
   "metadata": {},
   "source": [
    "### 3. Finn noen vanlige ord som ikke er i vokabularet"
   ]
  },
  {
   "cell_type": "code",
   "execution_count": null,
   "metadata": {},
   "outputs": [],
   "source": [
    "# Din kode her"
   ]
  },
  {
   "attachments": {},
   "cell_type": "markdown",
   "metadata": {},
   "source": [
    "### 4. Bonusoppgave\n",
    "    Lag separate ordvektorer basert på Austen sine bøker og Shakespeare sine bøker.   \n",
    "    (Altså, lag én term-term matrise for Austen-bøkene og én for Shakespeare-bøkene)    \n",
    "    Finn noen ord som forekommer i begge vokabularene, og se om det er store forskjeller på de 10 likeste ordene fra hvert sett av bøker.  "
   ]
  },
  {
   "cell_type": "code",
   "execution_count": null,
   "metadata": {},
   "outputs": [],
   "source": [
    "# Din kode her"
   ]
  },
  {
   "attachments": {},
   "cell_type": "markdown",
   "metadata": {},
   "source": [
    "## Word embeddings\n",
    "Ordvektorene vi har laget nå er veldig *sparse*: for et gitt ord vil mesteparten av tallene i vektoren være 0.  \n",
    "Vi så også at det er vanlige ord som vi ikke har vektorer for, og at vektorlengden vil øke linjært med vokabularet.  "
   ]
  },
  {
   "attachments": {},
   "cell_type": "markdown",
   "metadata": {},
   "source": [
    "\n",
    "I steden for å lage ordvektorer basert på telling av forekomster, kan man trene nevrale nettverk på ord og kontekst, og så bruke vektene til nettverket som representasjoner for ordene. Da kan vi bestemme dimensjonene til ordvektorene, siden det samsvarer med antall noder i nettverket, og vi får *dense* vektorer (korte med få 0-er). Vi kaller disse ordvektorene for word embeddings.\n",
    "\n",
    "Noen enkle eksempler på algoritmer for å lage word embeddings er å trene nettverk på å predikere et ord gitt sin egen kontekst (Continuous-Bag-of-Words), eller til å predikere kontekten gitt et ord (Skip-Gram).  \n",
    "\n",
    "Siden mer data > bedre resultater, vil man typisk vil man bruke word embeddings som noen andre har trent på enorme corpora. \n",
    "\n",
    "Les mer:  \n",
    "Cbow og skip-gram: (Google, 2013: https://arxiv.org/abs/1301.3781)  \n",
    "GloVe: (Stanford, 2014: https://nlp.stanford.edu/projects/glove/)\n"
   ]
  },
  {
   "attachments": {},
   "cell_type": "markdown",
   "metadata": {},
   "source": [
    "### 1. Finn de 10 likeste ordene til emma, george, lovely og king ved hjelp av Stanford sine GloVe-vektorer "
   ]
  },
  {
   "cell_type": "code",
   "execution_count": null,
   "metadata": {},
   "outputs": [],
   "source": [
    "import gensim.downloader\n",
    "\n",
    "glove_model = gensim.downloader.load('glove-wiki-gigaword-300')"
   ]
  },
  {
   "cell_type": "code",
   "execution_count": null,
   "metadata": {},
   "outputs": [],
   "source": [
    "glove_model.most_similar(\"sheep\")"
   ]
  },
  {
   "cell_type": "code",
   "execution_count": null,
   "metadata": {},
   "outputs": [],
   "source": [
    "# Din kode her"
   ]
  },
  {
   "attachments": {},
   "cell_type": "markdown",
   "metadata": {},
   "source": [
    "### 2. Finn de 10 likeste ordene til \"bow\"\n",
    "    Hva ser du? \n",
    "    Hvordan forklarer du dette?"
   ]
  },
  {
   "cell_type": "code",
   "execution_count": null,
   "metadata": {},
   "outputs": [],
   "source": [
    "# Din kode her"
   ]
  },
  {
   "attachments": {},
   "cell_type": "markdown",
   "metadata": {},
   "source": [
    "### 3. Bonus\n",
    "    Tren et lite nettverk på å produsere neste ord gitt de x forrige med disse vektorene og bøkene i samlingen vår.  \n",
    "    Du kan legge til spesielle start- og slutt-tokens på begge ender av hver setning (<sos> og <eos> feks)  \n",
    "    Nå kan du bruke dette nettverket til å generere tekst (start genereringen med start-token, og slutt å generere når modellen predikerer slutt-token)"
   ]
  },
  {
   "cell_type": "code",
   "execution_count": null,
   "metadata": {},
   "outputs": [],
   "source": [
    "# Din kode her"
   ]
  },
  {
   "attachments": {},
   "cell_type": "markdown",
   "metadata": {},
   "source": [
    "# Oppgave 3: Contextualized embeddings, tranformers og LLMs"
   ]
  },
  {
   "attachments": {},
   "cell_type": "markdown",
   "metadata": {},
   "source": [
    "## Contextualized embeddings\n",
    "Siden (det som ser ut som) samme ord, kan ha forskjellige betydninger, fant man på *contextualized embeddings*.  \n",
    "Da vil ordet \"bow\" i setningene \"Legolas picked up his bow\" og \"The waiter wore a black bow\" representeres av forskjellige vektorer.  "
   ]
  },
  {
   "attachments": {},
   "cell_type": "markdown",
   "metadata": {},
   "source": [
    "Konseptet med contextualized embeddings ble introdusert med Paragraph Vector/Doc2Vec, en arkitektur for dokument-embeddings (2014, Stanford: https://arxiv.org/abs/1405.4053)\n",
    "\n",
    "En kjent modell for contextualized embeddings er ELMo (Embeddings from Language Models). Den ble publisert i 2018 (paper: https://arxiv.org/abs/1802.05365) og er basert på BiDirectional LSTMs*) \n",
    "\n",
    "*LSTM = Long Short Term Memory, en type Recurrent Neural Network (RNN) som kan \"huske\" relativt lang kontekst (spesialdesinget for å være bedre enn vanilla RNN på vanishing gradients)"
   ]
  },
  {
   "attachments": {},
   "cell_type": "markdown",
   "metadata": {},
   "source": [
    "### 1. Visualiser ELMo embeddings\n",
    "I denne oppgaven skal vi bruke ELMo for å se hvordan vektorrepresentasjonen til et flertydig ord ser ut i forskjellige kontekster.  \n",
    "\n",
    "    Finn alle setningene i samlingen vår hvor ordet \"bow\" forekommer. \n",
    "    Bruk ELMo til å hente ut word embeddingen for \"bow\" i hver kontekst, og plott disse med ditt favorittverktøy "
   ]
  },
  {
   "cell_type": "code",
   "execution_count": null,
   "metadata": {},
   "outputs": [],
   "source": [
    "import tensorflow_hub as hub\n",
    "import tensorflow as tf\n",
    "\n",
    "elmo = hub.load(\"https://tfhub.dev/google/elmo/3\").signatures[\"tokens\"]"
   ]
  },
  {
   "cell_type": "code",
   "execution_count": null,
   "metadata": {},
   "outputs": [],
   "source": [
    "# Fyll inn kode her:\n",
    "# TODO: \n",
    "# Finn setninger - (bruk de tokeniserte setningene vi fikk fra gutenberg.sents)\n",
    "# Pad setningene med \"\" på slutten slik at alle listene med ord er like lange\n",
    "# Spar på lengdene på de originale setningene (altså antall tokens uten padding), sånn at paddingen ikke blir en del av vektorene\n",
    "\n",
    "# padded_sents = de paddede sentingene, input_lens er lengden av de faktiske setningene \n",
    "embeddings_tensors = elmo(tokens=tf.constant(padded_sents), sequence_len=tf.constant(input_lens))\n",
    "indices = [sent.index(\"bow\") for sent in sents]\n",
    "embs = [emb[i] for i, emb in zip(indices, embeddings_tensors[\"elmo\"])]\n",
    "\n",
    "# TODO: Visualiser embeddingsene i et scatterplot "
   ]
  },
  {
   "attachments": {},
   "cell_type": "markdown",
   "metadata": {},
   "source": [
    "## Transformer-arkitekturen og Large Language Models (LLMs) (to be continued)\n",
    "En annen kjent modell for contextualized word embeddings er BERT (2018, paper: https://arxiv.org/abs/1810.04805).  \n",
    "Basert på encoder-delen av transformer-arkitekturen*, lager BERT contextualized word embeddings.  \n",
    "BERT er trent på bl.a masked language modelling, og kan brukes til å klassifisere sekvenser (ordklasser, dependensgrafer, entitetsekstrahering). \n",
    "\n",
    "*Transformers-arkitekturen ble presentert i det nå legendariske paperet Attention is all you need (2017, https://arxiv.org/abs/1706.03762)  \n",
    "Mye mer kontekst kan \"huskes\" (det går kanter mellom hvert par av tokens) og den er ikke sekvensiell på samme måte som LSTMer som betyr at det er lett å parallelisere trening og inference  \n",
    "\n",
    "GPT-modellene er også basert på transformers. Og T5 (https://ai.googleblog.com/2020/02/exploring-transfer-learning-with-t5.html) (så og si all nyere språkteknologi)\n",
    "\n",
    "Jeg rakkk ikke mer, vi får ta resten senere!!!   \n",
    "Dypere om transformers og multimodale modeller kommer neste gang kan vi si\n",
    "\n",
    "Anbefaler Andrey sin talk her:  \n",
    "https://www.youtube.com/watch?v=mtM6D2ySME8  \n",
    "slides: https://www.nora.ai/cuttingedgeai/cuttinedge-ai-february/presentations/06---andrey-kutuzov---lm_chatgpt.pdf  "
   ]
  }
 ],
 "metadata": {
  "kernelspec": {
   "display_name": "venv",
   "language": "python",
   "name": "python3"
  },
  "language_info": {
   "codemirror_mode": {
    "name": "ipython",
    "version": 3
   },
   "file_extension": ".py",
   "mimetype": "text/x-python",
   "name": "python",
   "nbconvert_exporter": "python",
   "pygments_lexer": "ipython3",
   "version": "3.8.10 (default, Mar 13 2023, 10:26:41) \n[GCC 9.4.0]"
  },
  "orig_nbformat": 4,
  "vscode": {
   "interpreter": {
    "hash": "bc47d3908329ff540dbbbacaf6c5a69db37d2b1db7c0ce14879479d2f9f8507d"
   }
  }
 },
 "nbformat": 4,
 "nbformat_minor": 2
}
